## Implementation of multiple linear regression in Real estate price prediction problem  
### Import the necesarry libraries
import pandas as pd
import numpy as np 
import matplotlib.pyplot as plt
import seaborn as sns

import warnings
warnings.simplefilter(action='ignore', category=FutureWarning)
### Reading the data from csv file
df=pd.read_csv('Real estate.csv')
df.head()
### Check if there any missing value in dataset
df.info()
#### so, there is no missing data-value in dataset
### Pairplot and Distplot
sns.pairplot(df)
plt.show()
sns.distplot(df['Y house price of unit area'], color='green')
plt.show()
### Identifying features and label
x=df.drop(['Y house price of unit area', 'No'], axis=1)
y=df['Y house price of unit area']
x.head(10)
### Split dataset to train and test data
from sklearn.model_selection import train_test_split
x_train, x_test, y_train, y_test = train_test_split(x, y, test_size=0.3, random_state=50)
x_train.head(10)
### Train the model
from sklearn.linear_model import LinearRegression
reg = LinearRegression()
reg.fit(x_train, y_train)
pd.DataFrame(reg.coef_, x.columns, columns=['coefficient'])
reg.intercept_
df['Y house price of unit area'].value_counts()
### Predicting test data
y_predict = reg.predict(x_test)
pd.DataFrame({'Test':y_test, 'Prediction':y_predict}).head(10)
### Evalution of the model
from sklearn import metrics
MAE = metrics.mean_absolute_error(y_predict, y_test)
MSE = metrics.mean_squared_error(y_predict, y_test)
RMSE = np.sqrt(MSE)

pd.DataFrame([MAE, MSE, RMSE], index=['MAE', 'MSE', 'RMSE'], columns=['Metrics'])
df['Y house price of unit area'].mean()
### Analyzing the residulas
residuals = y_test-y_predict
sns.scatterplot(x=y_test, y=y_predict, color='olive')
plt.xlabel('y_test')
plt.ylabel('y_predict')
plt.show()


sns.distplot(residuals, color='r', hist=False)
sns.scatterplot(x=y_test, y=residuals)
plt.axhline(y=0, color='r', ls='--')
plt.scatter(reg.predict(x_train), reg.predict(x_train) - y_train, color = "green", s = 35, edgecolor='black', label = 'Train data')
plt.scatter(reg.predict(x_test), reg.predict(x_test) - y_test, color = "red", s = 35, edgecolor='black', label = 'Test data')
plt.hlines(y = 0, xmin = 0, xmax = 50, colors='#5e03fc', linewidth = 2)
plt.legend(loc = 'upper right')
plt.title("Residual errors")
plt.show()
### Saving model into pickle file
import pickle
with open('model_pickle','wb') as f:
    pickle.dump(reg,f)
with open('model_pickle','rb') as f:
    mp = pickle.load(f)
mp.predict(x_test)
x_test
